{
  "nbformat": 4,
  "nbformat_minor": 0,
  "metadata": {
    "colab": {
      "name": "python_assignment2.ipynb",
      "provenance": []
    },
    "kernelspec": {
      "name": "python3",
      "display_name": "Python 3"
    },
    "language_info": {
      "name": "python"
    }
  },
  "cells": [
    {
      "cell_type": "code",
      "metadata": {
        "colab": {
          "base_uri": "https://localhost:8080/"
        },
        "id": "fizJRNh4X8Q9",
        "outputId": "f95fa205-a20f-4477-8034-55fac63e112f"
      },
      "source": [
        "#Create the below pattern using nested for loop in Python.\n",
        "n = 5 \n",
        "for i in range(n):\n",
        "  for j in range(i+1):\n",
        "    print(\"*\",end='')\n",
        "  print('')\n",
        "for i in range(n-1,0,-1):\n",
        "  for j in range(i):\n",
        "    print(\"*\",end='')\n",
        "  print('')"
      ],
      "execution_count": 5,
      "outputs": [
        {
          "output_type": "stream",
          "name": "stdout",
          "text": [
            "*\n",
            "**\n",
            "***\n",
            "****\n",
            "*****\n",
            "****\n",
            "***\n",
            "**\n",
            "*\n"
          ]
        }
      ]
    },
    {
      "cell_type": "code",
      "metadata": {
        "colab": {
          "base_uri": "https://localhost:8080/"
        },
        "id": "zGMRIipoiyAU",
        "outputId": "f2a36309-6fa8-4ba8-caf8-61f9bc2562e6"
      },
      "source": [
        "#Write a Python program to reverse a word after accepting the input from the user.\n",
        "print(input()[::-1])"
      ],
      "execution_count": 8,
      "outputs": [
        {
          "output_type": "stream",
          "name": "stdout",
          "text": [
            "priyanka\n",
            "aknayirp\n"
          ]
        }
      ]
    },
    {
      "cell_type": "code",
      "metadata": {
        "id": "IPWGgehPi_Ns"
      },
      "source": [
        ""
      ],
      "execution_count": null,
      "outputs": []
    }
  ]
}