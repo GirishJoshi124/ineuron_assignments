{
  "nbformat": 4,
  "nbformat_minor": 0,
  "metadata": {
    "colab": {
      "name": "python_assignment1.ipynb",
      "provenance": [],
      "collapsed_sections": []
    },
    "kernelspec": {
      "name": "python3",
      "display_name": "Python 3"
    },
    "language_info": {
      "name": "python"
    }
  },
  "cells": [
    {
      "cell_type": "code",
      "metadata": {
        "id": "5bI_h_U2QEiQ"
      },
      "source": [
        "#Number divisible by 7 but not a multiple of 5\n",
        "\n",
        "for i in range(2000,3201):\n",
        "  if(i%5 != 0):\n",
        "    if(i%7 == 0):\n",
        "      print(i)\n"
      ],
      "execution_count": null,
      "outputs": []
    },
    {
      "cell_type": "code",
      "metadata": {
        "colab": {
          "base_uri": "https://localhost:8080/"
        },
        "id": "KLYCcAYtQbOm",
        "outputId": "e5611482-7551-463c-9a6e-026f957f946e"
      },
      "source": [
        "#Python program to accept the user's first and last name and then getting them printed in reverse order\n",
        "print(\"Enter your first name\")\n",
        "fn = input()\n",
        "print(\"Enter your last name\")\n",
        "ln = input()\n",
        "fullname = fn+' '+ln\n",
        "print(fullname)\n",
        "print(fullname[::-1])"
      ],
      "execution_count": 8,
      "outputs": [
        {
          "output_type": "stream",
          "name": "stdout",
          "text": [
            "Enter your first name\n",
            "priyanka\n",
            "Enter your last name\n",
            "kulkarni\n",
            "priyanka kulkarni\n",
            "inrakluk aknayirp\n"
          ]
        }
      ]
    },
    {
      "cell_type": "code",
      "metadata": {
        "colab": {
          "base_uri": "https://localhost:8080/"
        },
        "id": "oepaVA2bSGyN",
        "outputId": "37494bbe-e28e-4ae7-f15a-fba4cb607cfd"
      },
      "source": [
        "#Write a Python program to find the volume of a sphere with diameter 12 cm.Formula: V=4/3 * π * r 3\n",
        "import math\n",
        "dia = 12\n",
        "r = dia/2\n",
        "V = 4/3* math.pi * r *r *r\n",
        "print(V)\n"
      ],
      "execution_count": 10,
      "outputs": [
        {
          "output_type": "stream",
          "name": "stdout",
          "text": [
            "904.7786842338604\n"
          ]
        }
      ]
    },
    {
      "cell_type": "code",
      "metadata": {
        "id": "Z_WcNpguTRjQ"
      },
      "source": [
        ""
      ],
      "execution_count": null,
      "outputs": []
    }
  ]
}